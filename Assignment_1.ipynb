{
  "metadata": {
    "kernelspec": {
      "name": "xpython",
      "display_name": "Python 3.13 (XPython)",
      "language": "python"
    },
    "language_info": {
      "file_extension": ".py",
      "mimetype": "text/x-python",
      "name": "python",
      "version": "3.13.1"
    }
  },
  "nbformat_minor": 5,
  "nbformat": 4,
  "cells": [
    {
      "id": "267eabc7-0712-4a22-b427-281f0a948d1f",
      "cell_type": "raw",
      "source": "1) During lockdown, ATMs were allowed to dispatch currencies in specific way. If\nuser enters the amount, which is not multiple of 500 transactions will be rejected.\nIf amount is 500 exactly, then 5 currencies of 100 will be dispatched by machine",
      "metadata": {}
    },
    {
      "id": "ce7cddfa-00b9-4bd2-9fed-a0c435e7ad6c",
      "cell_type": "code",
      "source": "amount = int(input()) #500\n#checking whether the amount is divsiable by 500 or not\nif not (amount % 500):\n    print(f\"please dispatch {amount // 100} notes of 100\")\nelse:\n    print(\"please enter the amount multiple of 500\")\n",
      "metadata": {
        "trusted": true
      },
      "outputs": [
        {
          "output_type": "stream",
          "name": "stdin",
          "text": " 500\n"
        },
        {
          "name": "stdout",
          "output_type": "stream",
          "text": "please dispatch 5 notes of 100\n\n\n"
        }
      ],
      "execution_count": 3
    },
    {
      "id": "5d6c0c50-c82a-4e12-a67a-b62dc042abea",
      "cell_type": "raw",
      "source": "2) Reina and Sierra were playing a game. Reina would give out number, and Sierra \nmust reverse the given number. Help Sierra by writing program to reverse the \nnumber. Note that Reina should give a five-digit number. ",
      "metadata": {}
    },
    {
      "id": "60e6e951-5154-45e1-b99b-538c03b5a5ee",
      "cell_type": "code",
      "source": "num = input() #67891\nif len(num) == 5:\n    print(num[::-1])\nelse:\n    print(\"Not a vaild number\")",
      "metadata": {
        "trusted": true
      },
      "outputs": [
        {
          "output_type": "stream",
          "name": "stdin",
          "text": " 67891\n"
        },
        {
          "name": "stdout",
          "output_type": "stream",
          "text": "19876\n\n\n"
        }
      ],
      "execution_count": 4
    },
    {
      "id": "d2682b8d-1a03-4338-904f-f6d1b39d9b3a",
      "cell_type": "raw",
      "source": " 3) Write a program to print all prime numbers between 1 and N(inclusive). N will be \nthe input.",
      "metadata": {}
    },
    {
      "id": "e2af2e43-f8cd-4121-b7dd-32d78079b427",
      "cell_type": "code",
      "source": "def isPrime(num):\n    for i in range(2, num):\n        if num % i == 0:\n            return False\n    return True\n\nn = int(input()) #5\nfor i in range (2, n + 1):\n    #checking whether the number is prime or not\n    if isPrime(i):\n        print(i, end = ' ')",
      "metadata": {
        "trusted": true
      },
      "outputs": [
        {
          "output_type": "stream",
          "name": "stdin",
          "text": " 5\n"
        },
        {
          "name": "stdout",
          "output_type": "stream",
          "text": "2 3 5 \n\n"
        }
      ],
      "execution_count": 2
    },
    {
      "id": "59c0b6b9-289b-492d-995f-46c5f7c112e3",
      "cell_type": "raw",
      "source": "4) Ann wanted to check her students’ knowledge on divisors. If she gives a number, \nthen students should say all the factors of that number. Write a program for this. ",
      "metadata": {}
    },
    {
      "id": "cf319e1e-9047-4b81-ba31-14f6c6887421",
      "cell_type": "code",
      "source": "n = int(input()) #36\nfor i in range(1, n // 2 + 1):\n     #checking whether the number is divsiable by i or not\n    if (not (n % i)) :\n        print(i, end = ' ')\nprint(n)",
      "metadata": {
        "trusted": true
      },
      "outputs": [
        {
          "output_type": "stream",
          "name": "stdin",
          "text": " 36\n"
        },
        {
          "name": "stdout",
          "output_type": "stream",
          "text": "1 2 3 4 6 9 12 18 36\n\n\n"
        }
      ],
      "execution_count": 7
    },
    {
      "id": "a1e3503e-b224-4cc3-8233-10f57f1badd5",
      "cell_type": "raw",
      "source": "5) Write a Python program that reads a decimal number from the user and converts it to \nbinary, octal, and hexadecimal. ",
      "metadata": {}
    },
    {
      "id": "d72eca5a-a610-4abc-bdf9-7330d063e0c1",
      "cell_type": "code",
      "source": "n = int(input()) #255\n#converting into binary\nprint (f\"Binary: {str(bin(n))[2:]}\")\n#converting into Octal\nprint (f\"Octal: {str(oct(n))[2:]}\")\n#converting into Hex\nprint (f\"Hexadecimal: {str(hex(n))[2:]}\")",
      "metadata": {
        "trusted": true
      },
      "outputs": [
        {
          "output_type": "stream",
          "name": "stdin",
          "text": " 255\n"
        },
        {
          "name": "stdout",
          "output_type": "stream",
          "text": "Binary: 11111111\nOctal: 377\nHexadecimal: ff\n\n\n"
        }
      ],
      "execution_count": 12
    },
    {
      "id": "803479c5-111b-404e-b1ae-95caa7cdf5a5",
      "cell_type": "raw",
      "source": "6) Write a Python program to calculate the number of leap years in a century. \nPrompt the user to enter the century (e.g., 19 for 1901-2000). Validate the input as \na positive integer and calculate and print the number of leap years. ",
      "metadata": {}
    },
    {
      "id": "9d0fcb3e-973b-4d02-a23f-a3ed055e4edf",
      "cell_type": "code",
      "source": "century = int(input()) #19\n\nif century <= 0:\n    print(\"Please enter a positive integer\")\nelse:\n    #converting the correct century year\n    start = (century - 1) * 100 + 1\n    end = century * 100\n    count = 0\n    for i in range(start, end + 1):\n        #checking leap year or not\n        if (i % 4 == 0 and i % 100 != 0) or (i % 400 == 0):\n            count += 1\n    print(count)",
      "metadata": {
        "trusted": true
      },
      "outputs": [
        {
          "output_type": "stream",
          "name": "stdin",
          "text": " 19\n"
        },
        {
          "name": "stdout",
          "output_type": "stream",
          "text": "24\n\n\n"
        }
      ],
      "execution_count": 46
    },
    {
      "id": "0a7b62ce-d298-4fec-9954-863ce083619e",
      "cell_type": "raw",
      "source": "7. Given a positive integer num, return the number of positive integers less \nthan or equal to num whose digit sums are even. The digit sum of a positive integer is the sum of all its digits.",
      "metadata": {}
    },
    {
      "id": "ad075d71-85c0-4f0d-b91f-73d5fe631664",
      "cell_type": "code",
      "source": "def isEvenDigitSum(n):\n    sum = 0\n    while n:\n        sum += n % 10\n        n //= 10\n    return not(sum & 1)\n    \nn = int(input()) #30\nsum = 0\nfor i in range (2, n + 1):\n    if isEvenDigitSum(i):\n        sum += 1\nprint(sum)",
      "metadata": {
        "trusted": true
      },
      "outputs": [
        {
          "output_type": "stream",
          "name": "stdin",
          "text": " 30\n"
        },
        {
          "name": "stdout",
          "output_type": "stream",
          "text": "14\n\n\n"
        }
      ],
      "execution_count": 16
    },
    {
      "id": "f4f43e19-d170-4d56-935a-6f27621e9245",
      "cell_type": "raw",
      "source": "8) Given an integer num, return the number of digits in num that divide \nnum. An integer val divides nums if nums % val == 0. ",
      "metadata": {}
    },
    {
      "id": "dc199351-3533-49ea-bf8a-5e06008f4895",
      "cell_type": "code",
      "source": "n = int(input()) #1248\ntemp = n\nsum = 0\nwhile n:\n    if not(temp % (n % 10)):\n        sum += 1\n    n //= 10\nprint(sum)",
      "metadata": {
        "trusted": true
      },
      "outputs": [
        {
          "output_type": "stream",
          "name": "stdin",
          "text": " 1248\n"
        },
        {
          "name": "stdout",
          "output_type": "stream",
          "text": "4\n\n\n"
        }
      ],
      "execution_count": 19
    },
    {
      "id": "413d837c-7bec-4796-9be5-38465cec70f8",
      "cell_type": "raw",
      "source": "9) A student will not be allowed to sit in exam if his/her attendance is less than \n75%. Number of classes held, and the Number of classes attended are the inputs. \nDisplay the attendance percentage and the eligibility of the student for the exam. \nAllow the student to sit if he/she has medical cause. Ask user if he/she has medical \ncause or not (‘Y' or 'N’) only when the attendance is lacking and print accordingly. ",
      "metadata": {}
    },
    {
      "id": "cacf99f5-287a-476f-9cfd-a381a975c11c",
      "cell_type": "code",
      "source": "NumberOfClasses = int(input()) #100\nNumberOfClassesAttened = int(input()) #80\n#calculating attendancePercentage\nattendancePercentage = int((NumberOfClassesAttened / NumberOfClasses) * 100)\nif (attendancePercentage > 75):\n    print(f\"{attendancePercentage}% Allowed\")\nelse:\n    IsMedicalCause = input()\n    if (IsMedicalCause == \"N\"):\n         print(f\"{attendancePercentage}% Not Allowed\")\n    else:\n         print(f\"{attendancePercentage}% Allowed\")        ",
      "metadata": {
        "trusted": true
      },
      "outputs": [
        {
          "output_type": "stream",
          "name": "stdin",
          "text": " 100\n 80\n"
        },
        {
          "name": "stdout",
          "output_type": "stream",
          "text": "80% Allowed\n\n\n"
        }
      ],
      "execution_count": 30
    },
    {
      "id": "ab61c8bf-7b11-4671-8483-761cc121d483",
      "cell_type": "raw",
      "source": "10)  Write a Python program to calculate the electricity bill for a customer based on \nthe number of units consumed. The billing rates are as follows: ",
      "metadata": {}
    },
    {
      "id": "d00187da-b356-410c-bd19-1647a6e249df",
      "cell_type": "code",
      "source": "unit = int(input()) #250\nif (unit < 0):\n    print(\"Invalid unit count\")\nsum = 0\nprint(\"Total Bill : ₹\", end = '')\nif (unit <= 100): \n    print(unit * 1.5)\nelse:\n    #first slab\n    sum += 100 * 1.5\n    unit -= 100\n    if (unit <= 100):\n        print(sum + unit * 2.5)\n    else:\n        #second slab\n        sum += 100 * 2.5\n        unit -= 100\n        if (unit <= 100):\n            print(sum + unit * 4.0)\n        else:\n            #third slab\n            sum += 100 * 4.0\n            unit -= 100\n            if (unit <= 0): unit = 1\n            print(sum + unit * 6)\n",
      "metadata": {
        "trusted": true
      },
      "outputs": [
        {
          "output_type": "stream",
          "name": "stdin",
          "text": " 250\n"
        },
        {
          "name": "stdout",
          "output_type": "stream",
          "text": "Total Bill : ₹600.0\n\n\n"
        }
      ],
      "execution_count": 36
    },
    {
      "id": "308165ff-423f-4c27-92d7-437972d7579c",
      "cell_type": "raw",
      "source": "11) Jessica teaches her students about how many days in a month, what is a leap year \nand how to find it. Write a program to help her by saying the answer (number of days \nin a month) to expect from the student for the given month number and the year.  ",
      "metadata": {}
    },
    {
      "id": "414ccda3-f8e4-448d-8c01-bd6af785a290",
      "cell_type": "code",
      "source": "month = int(input()) #2\nyear = int(input()) #2016\nmatch month:\n    case 1:\n        print(f\"January {year} has 31 days\")\n    case 2:\n        # Leap year check\n        if (year % 4 == 0 and year % 100 != 0) or (year % 400 == 0):\n            print(f\"February {year} has 29 days\")\n        else:\n            print(f\"February {year} has 28 days\")\n    case 3:\n        print(f\"March {year} has 31 days\")\n    case 4:\n        print(f\"April {year} has 30 days\")\n    case 5:\n        print(f\"May {year} has 31 days\")\n    case 6:\n        print(f\"June {year} has 30 days\")\n    case 7:\n        print(f\"July {year} has 31 days\")\n    case 8:\n        print(f\"August {year} has 31 days\")\n    case 9:\n        print(f\"September {year} has 30 days\")\n    case 10:\n        print(f\"October {year} has 31 days\")\n    case 11:\n        print(f\"November {year} has 30 days\")\n    case 12:\n        print(f\"December {year} has 31 days\")\n    case _:\n        print(\"Invalid month number\")",
      "metadata": {
        "trusted": true
      },
      "outputs": [
        {
          "output_type": "stream",
          "name": "stdin",
          "text": " 2\n 2016\n"
        },
        {
          "name": "stdout",
          "output_type": "stream",
          "text": "February 2016 has 29 days\n\n\n"
        }
      ],
      "execution_count": 37
    },
    {
      "id": "79bd0775-0339-402f-a0a5-58500460d673",
      "cell_type": "code",
      "source": "amount = int(input()) #5000\nif amount % 500 :\n    print(\"Please enter the amount multiple of 500\")\nelse:\n    if (amount == 500):\n        print (\"5 notes of 100\")\n    elif (amount > 500 and amount <= 2000): \n        print (f\"5 notes of 100 & {(amount - 500) // 500} notes of 500\")\n    else:\n        TwoThousand = amount // 2000\n        amount -= 2000 * TwoThousand\n        if (amount == 0):\n            print (f\"{TwoThousand} notes of 2000\")\n        elif (amount == 500):\n            print (f\"{TwoThousand} notes of 2000, 1 notes of 500\")\n        elif (amount > 500 and amount <= 2000): \n            print (f\"5 notes of 100, {TwoThousand} notes of 2000, {(amount - 500) // 500} notes of 500\")\n        else:\n            FiveHundred = ((amount // 500) - 1) * 5\n            print (f\"{FiveHundred} notes of 100, {TwoThousand} notes of 2000, 1 notes of 500\")",
      "metadata": {
        "trusted": true
      },
      "outputs": [
        {
          "output_type": "stream",
          "name": "stdin",
          "text": " 5000\n"
        },
        {
          "name": "stdout",
          "output_type": "stream",
          "text": "5 notes of 100, 2 notes of 2000, 1 notes of 500\n\n\n"
        }
      ],
      "execution_count": 52
    },
    {
      "id": "24d0773e-2aec-4988-aec0-43546ac3ec3b",
      "cell_type": "raw",
      "source": "13) Given a start number and end number, you need to display the numbers inclusive \nbut “ding” for every 5th number and “dong” for every 10th number. ",
      "metadata": {}
    },
    {
      "id": "0cc768b0-ade6-4b4d-b5bb-b166fab1d42a",
      "cell_type": "code",
      "source": "start = int(input()) #11\nend = int(input()) #40\nFifth = tenth = 1\n\nwhile (start <= end):\n    if (Fifth % 5 == 0 and Fifth % 10):\n        print(\"ding\" , end = ' ')\n    elif (tenth % 10 == 0):\n        print(\"dong\" , end = ' ')\n    else :\n        print(start , end = ' ')\n    Fifth += 1\n    tenth += 1\n    start += 1",
      "metadata": {
        "trusted": true
      },
      "outputs": [
        {
          "output_type": "stream",
          "name": "stdin",
          "text": " 11\n 40\n"
        },
        {
          "name": "stdout",
          "output_type": "stream",
          "text": "11 12 13 14 ding 16 17 18 19 dong 21 22 23 24 ding 26 27 28 29 dong 31 32 33 34 ding 36 37 38 39 dong \n\n"
        }
      ],
      "execution_count": 57
    },
    {
      "id": "8337110b-a115-42e3-ad9e-c15df3f4d161",
      "cell_type": "raw",
      "source": "14) Ana planned to choose a four-digit lucky number for his car. Her lucky numbers \nare 3, 5 and 7. Help her to find the car number, whose sum is divisible by 3 or 5 or \n7. Provide a valid car number, fails to provide a valid input then display that number \nis not a valid car number. ",
      "metadata": {}
    },
    {
      "id": "fa49e0d3-aafb-450e-94f6-e7bb74ae034b",
      "cell_type": "code",
      "source": "num = input() #1234\nif len(num) != 4:\n    print(\"It is not a vaild car number\")\nelse:\n    num = int(num)\n    sum = 0\n    while num:\n        sum += (num % 10)\n        num //= 10\n    #checking whether it's suitable for not to be a lucky number\n    if (sum % 3 == 0 or sum % 7 == 0 or sum % 5 == 0):\n        print(\"Can be my car number\")\n    else:\n        print(\"Can't be my car number\")",
      "metadata": {
        "trusted": true
      },
      "outputs": [
        {
          "output_type": "stream",
          "name": "stdin",
          "text": " 1234\n"
        },
        {
          "name": "stdout",
          "output_type": "stream",
          "text": "Can be my car number\n\n\n"
        }
      ],
      "execution_count": 65
    },
    {
      "id": "43dea8fd-fb8d-4b75-a013-2c66f932d82d",
      "cell_type": "raw",
      "source": "15) Danny teaches his student to find the factorial of a number. He wanted to test \nthe understanding of the student. For that, he provides a number. He wants the \nstudents to tell him that number is a factorial of which number. Help the student by \nwriting a program to do this. Note that the input should be a number greater than \nzero. If the input is less than or equal to zero, the output should be “Invalid Input”. \nAlso, if the input provided is not exactly the factorial of a number, say, the input \nprovided is 122, which is not a perfect factorial of a number, it should return “Sorry. \nThe given number is not a perfect factorial”. ",
      "metadata": {}
    },
    {
      "id": "e088ca5b-36cf-4471-b6c9-d38ab16c805e",
      "cell_type": "code",
      "source": "n = int(input()) #750\nif (n <= 0):\n    print (\"Invalid Input\")\nelse:\n    cnt = 1\n    fact = 1\n    while True:\n        if (fact == n):\n            print(cnt)\n            break\n        elif (fact > n):\n            print(\"Sorry. The given number is not a perfect factorial\") \n            break\n        cnt += 1\n        #factorial \n        fact *= cnt\nprint()\nprint()",
      "metadata": {
        "trusted": true
      },
      "outputs": [
        {
          "output_type": "stream",
          "name": "stdin",
          "text": " 750\n"
        },
        {
          "name": "stdout",
          "output_type": "stream",
          "text": "Sorry. The given number is not a perfect factorial\n\n\n"
        }
      ],
      "execution_count": 2
    },
    {
      "id": "6d903671-dcab-4564-9735-87fa2b11d0f1",
      "cell_type": "raw",
      "source": "16)  Alice and Bob take turns playing a game, with Alice starting first. \nInitially, there is a number n on the chalkboard. On each player's turn, that player makes a \nmove consisting of: \n● Choosing any x with 0 < x < n and n % x == 0. \n● Replacing the number n on the chalkboard with n - x. \nAlso, if a player cannot make a move, they lose the game. \nReturn true only if Alice wins the game, assuming both players play optimally.",
      "metadata": {}
    },
    {
      "id": "bc78af94-69b5-4912-be9c-8505f0e47d6c",
      "cell_type": "code",
      "source": "n = int(input()) #2\n#checking odd or not\nif (n & 1):\n    print(\"False\")\nelse:\n    print(\"True\")",
      "metadata": {
        "trusted": true
      },
      "outputs": [
        {
          "output_type": "stream",
          "name": "stdin",
          "text": " 2\n"
        },
        {
          "name": "stdout",
          "output_type": "stream",
          "text": "True\n\n\n"
        }
      ],
      "execution_count": 21
    },
    {
      "id": "ecf8abac-8799-45c6-b46b-6bc89e2e4718",
      "cell_type": "raw",
      "source": "17) : You are playing the following Nim Game with your friend: Initially, there \nis a heap of stones on the table. You and your friend will alternate taking turns, and you go \nfirst. On each turn, the person whose turn it is will remove 1 to 3 stones from the heap. The \none who removes the last stone is the winner. Given n, the number of stones in the heap, \nreturn true if you can win the game assuming both you and your friend play optimally, \notherwise return false.",
      "metadata": {}
    },
    {
      "id": "a0bd2eb6-59d2-4b61-b2a7-2c7d0e4adaaa",
      "cell_type": "code",
      "source": "n = int(input()) #4\nif not (n % 4):\n    print(\"False\")\nelse:\n    print(\"True\")",
      "metadata": {
        "trusted": true
      },
      "outputs": [
        {
          "output_type": "stream",
          "name": "stdin",
          "text": " 4\n"
        },
        {
          "name": "stdout",
          "output_type": "stream",
          "text": "False\n\n\n"
        }
      ],
      "execution_count": 22
    },
    {
      "id": "0c708b87-39b8-4e6e-8a79-3fa7db48226e",
      "cell_type": "raw",
      "source": "18) Given an integer n, find the largest power of a prime number p that \ndivides n!.",
      "metadata": {}
    },
    {
      "id": "5002f1e4-4a40-45f7-85aa-84f9c26c4b0e",
      "cell_type": "code",
      "source": "import math\nn = int(input()) #10\np = int(input()) #3\nPower = 1\nLargestPower = -1\n#finding the factorial\nfact = math.factorial(n)\ndiv = 1\nwhile fact >= div:\n    #computing highest power of p\n    div = (int)(p ** Power)\n    if (fact % div == 0):\n        LargestPower = Power\n    Power += 1\nprint(LargestPower)",
      "metadata": {
        "trusted": true
      },
      "outputs": [
        {
          "output_type": "stream",
          "name": "stdin",
          "text": " 10\n 3\n"
        },
        {
          "name": "stdout",
          "output_type": "stream",
          "text": "4\n\n\n"
        }
      ],
      "execution_count": 8
    },
    {
      "id": "5b3d212f-0028-44f2-9883-7cf126414310",
      "cell_type": "raw",
      "source": "19) You are climbing a staircase. It takes n steps to reach the top. Each time \nyou can either climb 1 or 2 steps. In how many distinct ways can you climb to the top? ",
      "metadata": {}
    },
    {
      "id": "11d822a6-8838-44b0-af6e-22754588df45",
      "cell_type": "code",
      "source": "n = int(input()) #3\nFirstTerm = 0\nSecondTerm = 1\n\nwhile n:\n    ans = FirstTerm + SecondTerm\n    FirstTerm = SecondTerm\n    SecondTerm = ans\n    n -= 1\nprint (ans)",
      "metadata": {
        "trusted": true
      },
      "outputs": [
        {
          "output_type": "stream",
          "name": "stdin",
          "text": " 3\n"
        },
        {
          "name": "stdout",
          "output_type": "stream",
          "text": "3\n\n\n"
        }
      ],
      "execution_count": 19
    },
    {
      "id": "18c3b6fa-31c3-4bed-9ad2-19bf6a627ee7",
      "cell_type": "raw",
      "source": "20) There is a road passing through a city with N plots on both sides of the \nroad. Plots are arranged in a straight line on either side of the road. Determine the total \nnumber of ways to construct buildings in these plots, ensuring that no two buildings are \nadjacent to each other. Specifically, buildings on opposite sides of the road cannot be \nadjacent.",
      "metadata": {}
    },
    {
      "id": "71f279f7-473e-4acc-8455-e39e9d4c8e95",
      "cell_type": "code",
      "source": "n = int(input())\nmod = 10**9 + 7\n#base cases\nif n == 1:\n    print(4)\nelif n == 2:\n    print(6)\nelse:\n    prev = 2\n    next = 3\n    n -= 2\n    while n:\n        curr = prev + next\n        prev = next\n        next = curr\n        n -= 1\n    #for both side\n    print((curr * curr) % mod)",
      "metadata": {
        "trusted": true
      },
      "outputs": [
        {
          "output_type": "stream",
          "name": "stdin",
          "text": " 3\n"
        },
        {
          "name": "stdout",
          "output_type": "stream",
          "text": "25\n"
        }
      ],
      "execution_count": 6
    },
    {
      "id": "14397574-9d4b-4ff8-9943-6eef63cdeec7",
      "cell_type": "raw",
      "source": "21)  Given an integer, find the longest consecutive sequence of 1s in its binary \nrepresentation. ",
      "metadata": {}
    },
    {
      "id": "26ca1dc7-98e0-45d9-b60f-76c0bb55984a",
      "cell_type": "code",
      "source": "n = int(input()) #156\ncnt = 0\nmaxCount = -1\nwhile n:\n    #checking if the LSB is 1 or not\n    if n & 1:\n        cnt += 1\n    else:\n        maxCount = max (maxCount, cnt)\n        cnt = 0\n    #div by 2\n    n >>= 1\nprint(max (maxCount, cnt))",
      "metadata": {
        "trusted": true
      },
      "outputs": [
        {
          "output_type": "stream",
          "name": "stdin",
          "text": " 156\n"
        },
        {
          "name": "stdout",
          "output_type": "stream",
          "text": "3\n\n\n"
        }
      ],
      "execution_count": 1
    },
    {
      "id": "9533fdd9-a688-4126-ae59-18b0082452e3",
      "cell_type": "raw",
      "source": "22) Collatz Sequence Steps \nGiven a positive integer n, repeatedly apply the following rules: \n• If n is even, divide it by 2. \n• If n is odd, multiply it by 3 and add 1. \nCount how many steps it takes to reach 1. ",
      "metadata": {}
    },
    {
      "id": "5fbed278-b0d6-4814-ae7e-4e9c33bfde08",
      "cell_type": "code",
      "source": "n = int(input()) #6\ncnt = 0\nwhile n != 1:\n    cnt += 1\n    #checking odd or even\n    if (n & 1):\n        n *= 3\n        n += 1\n    else:\n        n //= 2\nprint(cnt)",
      "metadata": {
        "trusted": true
      },
      "outputs": [
        {
          "output_type": "stream",
          "name": "stdin",
          "text": " 6\n"
        },
        {
          "name": "stdout",
          "output_type": "stream",
          "text": "8\n"
        }
      ],
      "execution_count": 30
    },
    {
      "id": "b6cc621f-8245-45fe-852a-94e4ed877a47",
      "cell_type": "raw",
      "source": "23)Jumping Number Check \nA number is \"jumping\" if the absolute difference between every pair of adjacent digits is exactly 1. Check if the \ngiven number is jumping. ",
      "metadata": {}
    },
    {
      "id": "cf734724-dcbf-4e26-be43-0fe8eb195f51",
      "cell_type": "code",
      "source": "n = int(input()) #1232\nlastDigit = n % 10\nn //= 10\nflag = \"YES\"\nwhile n:\n    if 1 != abs(lastDigit - (n % 10)):\n        flag = \"NO\"\n        break\n    lastDigit = (n % 10)\n    #removing last digit\n    n //= 10\nprint(flag)",
      "metadata": {
        "trusted": true
      },
      "outputs": [
        {
          "output_type": "stream",
          "name": "stdin",
          "text": " 1232\n"
        },
        {
          "name": "stdout",
          "output_type": "stream",
          "text": "YES\n\n\n"
        }
      ],
      "execution_count": 1
    },
    {
      "id": "34094bb4-a5d2-4854-9cb9-8e85adc6655f",
      "cell_type": "raw",
      "source": "24) Josephus Problem \nGiven n people standing in a circle and eliminating every kth person until one remains, find the \nposition of the survivor (1-indexed).",
      "metadata": {}
    },
    {
      "id": "4436dd76-7b5c-4024-80ae-d3877a52abc8",
      "cell_type": "code",
      "source": "n = int(input()) #7\nk = int(input()) #3\nList = [False] * n\ni = 0\ncnt = 0\nend = n\n\nwhile end != 1:\n    #checking whether the person already killed or not\n    if List[i]:\n        i = (i + 1) % n\n        continue\n    cnt += 1\n    if (cnt == k):\n        #Marking the eliminating person\n        List[i] = True\n        end -= 1\n        cnt = 0\n    i = (i + 1) % n\ncount = 0\n#Find the survivor\nfor i in List:\n    count += 1\n    if not i:\n        break\nprint (count)",
      "metadata": {
        "trusted": true
      },
      "outputs": [
        {
          "output_type": "stream",
          "name": "stdin",
          "text": " 7\n 3\n"
        },
        {
          "name": "stdout",
          "output_type": "stream",
          "text": "4\n\n\n"
        }
      ],
      "execution_count": 11
    },
    {
      "id": "a2f8c5db-02b3-433e-9de3-dfd7770fb985",
      "cell_type": "raw",
      "source": "25) Number Pyramid with Center Alignment \nGiven an integer n, print a pyramid of numbers where the middle number of each row increases \nconsecutively and numbers decrease symmetrically on both sides. The pyramid should be center\naligned. ",
      "metadata": {}
    },
    {
      "id": "a01f1ca9-b9a3-4fcf-948b-0202b45e6f81",
      "cell_type": "code",
      "source": "n = int(input())\nfor i in range(n):\n    flag = True\n    #for spacing\n    print(((2 * (n - i))) * ' ' , end = ' ')\n    num = i + 1\n    for j in range (0 , (2 * i + 1)):\n        if flag:\n            print(num, end = ' ')\n            num += 1\n        else:\n            print(num, end = ' ')\n            num -= 1\n        if j == i:\n            flag = False\n            num -= 2\n    print()\n         ",
      "metadata": {
        "trusted": true
      },
      "outputs": [
        {
          "output_type": "stream",
          "name": "stdin",
          "text": " 4\n"
        },
        {
          "name": "stdout",
          "output_type": "stream",
          "text": "         1 \n       2 3 2 \n     3 4 5 4 3 \n   4 5 6 7 6 5 4 \n\n\n"
        }
      ],
      "execution_count": 40
    },
    {
      "id": "b2719819-1829-43ab-8aec-40d875df829d",
      "cell_type": "raw",
      "source": "26) Write a program that prints a pyramid pattern within a rectangular frame of asterisks (*). The \nheight of the pyramid will be specified by the user, and the rectangle will encompass the pyramid, \nensuring it's centered.",
      "metadata": {}
    },
    {
      "id": "eb679a0d-6194-4bc8-be62-83ba73be0858",
      "cell_type": "code",
      "source": "n = int(input())\nt = n\nprint(((n * 2) + 2) * \"*\")\nn -= 1\ncnt = 4\nwhile n:\n    #first half\n    print(n * \"*\",end='')\n    #space part\n    print(cnt * \" \", end='')\n    #Second half\n    print(n * \"*\")\n    cnt += 2\n    n -= 1\nprint(((t * 2) + 2) * \"*\")",
      "metadata": {
        "trusted": true
      },
      "outputs": [
        {
          "output_type": "stream",
          "name": "stdin",
          "text": " 12\n"
        },
        {
          "name": "stdout",
          "output_type": "stream",
          "text": "**************************\n***********    ***********\n**********      **********\n*********        *********\n********          ********\n*******            *******\n******              ******\n*****                *****\n****                  ****\n***                    ***\n**                      **\n*                        *\n**************************\n"
        }
      ],
      "execution_count": 45
    },
    {
      "id": "aad0e981-a6df-4589-a5bc-dbe6c60705c1",
      "cell_type": "raw",
      "source": "27) Trap Rainwater Problem \nGiven heights of blocks, calculate how much water can be trapped between them after rainfall.",
      "metadata": {}
    },
    {
      "id": "9525a125-aab7-4a11-9e99-ad823c7891ea",
      "cell_type": "code",
      "source": "height = list(map(int, input().split()))\nn = len(height)\ncnt = 0\nlMax = [0] * n\nrMax = [0] * n\n# calculate maximum height to the left\nlMax[0] = height[0]\nfor i in range(1, n):\n    lMax[i] = max(height[i], lMax[i - 1])\n# calculate maximum height to the right\nrMax[n - 1] = height[n - 1]\nfor i in range(n - 2, -1, -1):\n    rMax[i] = max(height[i], rMax[i + 1])\n# compute total trapped water\nfor i in range(1, n - 1):\n    cnt += min(rMax[i], lMax[i]) - height[i]\nprint(cnt)\n",
      "metadata": {
        "trusted": true
      },
      "outputs": [
        {
          "output_type": "stream",
          "name": "stdin",
          "text": " 3 0 2 0 4\n"
        },
        {
          "name": "stdout",
          "output_type": "stream",
          "text": "7\n"
        }
      ],
      "execution_count": 5
    },
    {
      "id": "349d4fff-aa40-47df-b80d-56a703632dd0",
      "cell_type": "raw",
      "source": "28) Circular Prime Check \nA number is circular prime if all rotations of its digits are prime. Check if a given number \nis a circular prime. ",
      "metadata": {}
    },
    {
      "id": "1ccc08c7-829b-44ea-9aeb-cf78766f2aba",
      "cell_type": "code",
      "source": "def isPrime(num):\n    for i in range(2, num):\n        if num % i == 0:\n            return False\n    return True\n    \nn = input() #197\nlength = len(n)\nflag = True\n\nwhile length:\n    if not isPrime(int(n)):\n        flag = False\n        break\n    #Extract the last digit, reposition at the front\n    s = n[-1:] + n[:-1]\n    n = s\n    length -= 1\nif flag:\n    print(\"Yes\")\nelse:\n    print(\"No\")",
      "metadata": {
        "trusted": true
      },
      "outputs": [
        {
          "output_type": "stream",
          "name": "stdin",
          "text": " 197\n"
        },
        {
          "name": "stdout",
          "output_type": "stream",
          "text": "Yes\n\n\n"
        }
      ],
      "execution_count": 59
    },
    {
      "id": "7ae6c739-8e9f-4368-9176-91615cb63dc6",
      "cell_type": "raw",
      "source": "29) Kaprekar’s Process \nGiven a 4-digit number with at least two different digits, repeatedly: \n• Arrange digits in descending and ascending order to form two numbers. \n• Subtract the smaller from the larger. \n• Repeat \nuntil \nCount the steps required. ",
      "metadata": {}
    },
    {
      "id": "8cb39525-7b35-498e-9aaf-6962094caa3a",
      "cell_type": "code",
      "source": "n = input() #2111\ncnt = 0\nwhile n != \"6174\":\n    cnt += 1\n    assending = \"\".join(sorted(n))\n    desending = assending[::-1]\n    #substracting the assending and desending value\n    n = str(abs(int(assending) - int(desending))).zfill(4)\nprint(cnt)",
      "metadata": {
        "trusted": true
      },
      "outputs": [
        {
          "output_type": "stream",
          "name": "stdin",
          "text": " 2111\n"
        },
        {
          "name": "stdout",
          "output_type": "stream",
          "text": "5\n\n\n"
        }
      ],
      "execution_count": 2
    },
    {
      "id": "c4cb8e4a-946f-4d86-8d70-2bd894f779ec",
      "cell_type": "raw",
      "source": "30) Digital Root Multiplication  \nGiven a number, multiply its digits repeatedly until a single digit remains. Output that \ndigit. ",
      "metadata": {}
    },
    {
      "id": "6750d2c7-2e7d-4d46-90ed-070c52906c30",
      "cell_type": "code",
      "source": "n = int(input()) #39\n\n#multiplying its digits repeatedly until a single digit remains\nwhile n > 10:\n    t = n\n    mul = 1\n    while t:\n        mul *= t % 10\n        t //= 10\n    n = mul\nprint(n)",
      "metadata": {
        "trusted": true
      },
      "outputs": [
        {
          "output_type": "stream",
          "name": "stdin",
          "text": " 39\n"
        },
        {
          "name": "stdout",
          "output_type": "stream",
          "text": "4\n\n\n"
        }
      ],
      "execution_count": 6
    }
  ]
}